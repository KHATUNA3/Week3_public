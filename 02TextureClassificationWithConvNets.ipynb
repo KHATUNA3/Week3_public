{
  "nbformat": 4,
  "nbformat_minor": 0,
  "metadata": {
    "colab": {
      "name": "02TextureClassificationWithConvNets.ipynb",
      "version": "0.3.2",
      "provenance": [],
      "include_colab_link": true
    },
    "kernelspec": {
      "name": "python2",
      "display_name": "Python 2"
    },
    "accelerator": "GPU"
  },
  "cells": [
    {
      "cell_type": "markdown",
      "metadata": {
        "id": "view-in-github",
        "colab_type": "text"
      },
      "source": [
        "[View in Colaboratory](https://colab.research.google.com/github/KHATUNA3/Week3_public/blob/master/02TextureClassificationWithConvNets.ipynb)"
      ]
    },
    {
      "metadata": {
        "id": "a7scg4EGMfYk",
        "colab_type": "text"
      },
      "cell_type": "markdown",
      "source": [
        "# Tissue Classification using Neural Networks\n",
        "In this lab we will explore the use of texture in images and traditional machine learning approaches such as clustering. The dataset we will be using is available here: http://dx.doi.org/10.5281/zenodo.53169. \n",
        "\n",
        "![alt text](https://www.researchgate.net/profile/Jakob_Kather/publication/303998214/figure/fig7/AS:391073710002224@1470250646407/Representative-images-from-our-dataset-Here-the-first-10-images-of-every-tissue-class.png)\n",
        "\n",
        "The above figure shows the 8 different classes of tissue we will be trying to identify. "
      ]
    },
    {
      "metadata": {
        "id": "W86Oi6dCMfYp",
        "colab_type": "code",
        "colab": {}
      },
      "cell_type": "code",
      "source": [
        "# Imports\n",
        "from __future__ import print_function\n",
        "import os\n",
        "import numpy as np\n",
        "import matplotlib.pylab as plt\n",
        "from sklearn.model_selection import train_test_split\n",
        "import tensorflow as tf\n",
        "from tensorflow.keras import Sequential\n",
        "from tensorflow.keras.layers import Dense\n",
        "from tensorflow.keras.layers import Flatten\n",
        "from tensorflow.keras.layers import Conv2D\n",
        "from tensorflow.keras.layers import Dropout\n",
        "from tensorflow.keras.layers import MaxPool2D\n",
        "from tensorflow.keras.optimizers import SGD\n",
        "from tensorflow.keras.utils import to_categorical"
      ],
      "execution_count": 0,
      "outputs": []
    },
    {
      "metadata": {
        "id": "DfDmvdh7MfYx",
        "colab_type": "text"
      },
      "cell_type": "markdown",
      "source": [
        "## Step 1\n",
        "* Load the data (done for you)\n",
        " * The \"data\" variable stores 5000 images of shape 150x150. This means data has shape (5000, 150, 150). These images are loaded here as grayscale.\n",
        " * The \"labels\" variable stores 5000 labels (0-7). This means \"labels\" has shape (5000,)\n",
        "* Split data into training and testing subsets (left up to you)\n",
        " * Check out the sklearn function train_test_split from sklearn.model_selection"
      ]
    },
    {
      "metadata": {
        "id": "vTPG58OXMfYz",
        "colab_type": "code",
        "colab": {
          "base_uri": "https://localhost:8080/",
          "height": 34
        },
        "outputId": "59ecf1ba-b976-472b-8cb0-23d42b5d983a"
      },
      "cell_type": "code",
      "source": [
        "! git clone https://github.com/BeaverWorksMedlytics/Week3_public.git\n",
        "\n",
        "# Build the path to the data folder. No need to change directories\n",
        "# There are a total of 6 files you will have to load\n",
        "data_dir = os.path.join( os.getcwd(), 'Week3_public', 'data', 'crc')"
      ],
      "execution_count": 2,
      "outputs": [
        {
          "output_type": "stream",
          "text": [
            "fatal: destination path 'Week3_public' already exists and is not an empty directory.\r\n"
          ],
          "name": "stdout"
        }
      ]
    },
    {
      "metadata": {
        "id": "mF4iIwc8MfY4",
        "colab_type": "code",
        "colab": {
          "base_uri": "https://localhost:8080/",
          "height": 204
        },
        "outputId": "7b28b21b-dcee-4ee9-99d2-a373ab86a0d0"
      },
      "cell_type": "code",
      "source": [
        "# Load data and split into training, testing sets\n",
        "y = np.load(os.path.join(data_dir, 'rgb01.npz'))\n",
        "labels = y['labels']\n",
        "data = y['rgb_data']\n",
        "data = data[:,:,:,0]\n",
        "label_str = y['label_str']\n",
        "label_str = label_str.tolist() # this is to convert label_str back to a dictionary\n",
        "y = []\n",
        "\n",
        "print(data.shape)\n",
        "for ii in range(2,6):\n",
        "    filename = os.path.join(data_dir, 'rgb0' + str(ii) + '.npz')\n",
        "    print('loading ', filename)\n",
        "    y = np.load(filename)\n",
        "    labels = np.append(labels, y['labels'], axis=0)\n",
        "    data = np.append(data, y['rgb_data'][:,:,:,0], axis=0)\n",
        "    print(data.shape)\n",
        "    y = []\n",
        "\n",
        "\n",
        "print( data.shape )\n",
        "print( labels.shape )"
      ],
      "execution_count": 3,
      "outputs": [
        {
          "output_type": "stream",
          "text": [
            "(1000, 150, 150)\n",
            "loading  /content/Week3_public/data/crc/rgb02.npz\n",
            "(2000, 150, 150)\n",
            "loading  /content/Week3_public/data/crc/rgb03.npz\n",
            "(3000, 150, 150)\n",
            "loading  /content/Week3_public/data/crc/rgb04.npz\n",
            "(4000, 150, 150)\n",
            "loading  /content/Week3_public/data/crc/rgb05.npz\n",
            "(5000, 150, 150)\n",
            "(5000, 150, 150)\n",
            "(5000,)\n"
          ],
          "name": "stdout"
        }
      ]
    },
    {
      "metadata": {
        "id": "EnTT4tyXMfY9",
        "colab_type": "code",
        "colab": {
          "base_uri": "https://localhost:8080/",
          "height": 34
        },
        "outputId": "c111a741-cede-44a7-f0f0-22303c715c23"
      },
      "cell_type": "code",
      "source": [
        "num_images, nrows, ncols = data.shape\n",
        "labels = to_categorical(labels, num_classes=8)\n",
        "\n",
        "# split into training and testing sets\n",
        "#from sklearn.model_selection import train_test_split\n",
        "train_data, test_data, train_labels, test_labels = train_test_split(data, labels, test_size=0.2, random_state = 0)\n",
        "train_data.shape\n",
        "# convert the labels from 1-D arrays to categorical type \n"
      ],
      "execution_count": 4,
      "outputs": [
        {
          "output_type": "execute_result",
          "data": {
            "text/plain": [
              "(4000, 150, 150)"
            ]
          },
          "metadata": {
            "tags": []
          },
          "execution_count": 4
        }
      ]
    },
    {
      "metadata": {
        "id": "q6n15Sn3kmnK",
        "colab_type": "code",
        "colab": {
          "base_uri": "https://localhost:8080/",
          "height": 136
        },
        "outputId": "a2320a8c-8e08-4916-9898-97e4ed8cb113"
      },
      "cell_type": "code",
      "source": [
        "test_labels"
      ],
      "execution_count": 5,
      "outputs": [
        {
          "output_type": "execute_result",
          "data": {
            "text/plain": [
              "array([[1., 0., 0., ..., 0., 0., 0.],\n",
              "       [0., 0., 0., ..., 0., 1., 0.],\n",
              "       [0., 0., 0., ..., 0., 0., 1.],\n",
              "       ...,\n",
              "       [0., 1., 0., ..., 0., 0., 0.],\n",
              "       [0., 0., 1., ..., 0., 0., 0.],\n",
              "       [0., 0., 0., ..., 1., 0., 0.]], dtype=float32)"
            ]
          },
          "metadata": {
            "tags": []
          },
          "execution_count": 5
        }
      ]
    },
    {
      "metadata": {
        "id": "PtlCeN4FMfZD",
        "colab_type": "text"
      },
      "cell_type": "markdown",
      "source": [
        "## Normalize data\n",
        "All images should be normalized to the range 0-1 by dividing by 255.\n",
        "\n",
        "#### Note\n",
        "* Using the La\\*b colorspace : If you convert your images to the La\\*b colorspace, the scaling factor will change. Each channel in this colorspace will have a different range and normalization of each space will involve scaling each channel separately. Additionally, the a\\* channel can have a negative range. This also needs to be taken into account. \n",
        "* Using the HSV/HSI colorspace : Similar considerations apply if you are using the HSV/HSI colorspace. The only difference is that the HSV/HSI colorspace will have all positive values."
      ]
    },
    {
      "metadata": {
        "id": "_FeL1EP5MfZF",
        "colab_type": "code",
        "colab": {}
      },
      "cell_type": "code",
      "source": [
        "# Assuming we are using the RGB colorspace\n",
        "# Normalize all images so that they are 0-1\n",
        "train_data = train_data.astype('float')\n",
        "test_data = test_data.astype('float')\n",
        "train_data/=255.0\n",
        "test_data/=255.0\n"
      ],
      "execution_count": 0,
      "outputs": []
    },
    {
      "metadata": {
        "id": "gUu7gonpj4ep",
        "colab_type": "code",
        "colab": {
          "base_uri": "https://localhost:8080/",
          "height": 367
        },
        "outputId": "d02e6c30-c1ad-4b9b-f1fb-e516f68dded8"
      },
      "cell_type": "code",
      "source": [
        "plt.imshow(train_data[3])"
      ],
      "execution_count": 7,
      "outputs": [
        {
          "output_type": "execute_result",
          "data": {
            "text/plain": [
              "<matplotlib.image.AxesImage at 0x7f59b02dcd50>"
            ]
          },
          "metadata": {
            "tags": []
          },
          "execution_count": 7
        },
        {
          "output_type": "display_data",
          "data": {
            "image/png": "[encoded data removed]",
            "text/plain": [
              "<matplotlib.figure.Figure at 0x7f59f4c50990>"
            ]
          },
          "metadata": {
            "tags": []
          }
        }
      ]
    },
    {
      "metadata": {
        "id": "zHBbcKJetgqm",
        "colab_type": "code",
        "colab": {
          "base_uri": "https://localhost:8080/",
          "height": 1462
        },
        "outputId": "2704cb1a-b0ee-4035-f7f6-16ee6715a702"
      },
      "cell_type": "code",
      "source": [
        "test_data"
      ],
      "execution_count": 8,
      "outputs": [
        {
          "output_type": "execute_result",
          "data": {
            "text/plain": [
              "array([[[0.89019608, 0.87843137, 0.85882353, ..., 0.76470588,\n",
              "         0.70196078, 0.65882353],\n",
              "        [0.62745098, 0.61960784, 0.60392157, ..., 0.86666667,\n",
              "         0.81960784, 0.7254902 ],\n",
              "        [0.52941176, 0.52156863, 0.50196078, ..., 0.90588235,\n",
              "         0.83921569, 0.6745098 ],\n",
              "        ...,\n",
              "        [0.5372549 , 0.57254902, 0.57254902, ..., 0.57647059,\n",
              "         0.56470588, 0.59215686],\n",
              "        [0.54901961, 0.58823529, 0.58039216, ..., 0.58039216,\n",
              "         0.56862745, 0.59215686],\n",
              "        [0.57647059, 0.60784314, 0.57254902, ..., 0.6       ,\n",
              "         0.58823529, 0.6       ]],\n",
              "\n",
              "       [[0.1372549 , 0.18823529, 0.23529412, ..., 0.22352941,\n",
              "         0.22352941, 0.30196078],\n",
              "        [0.16470588, 0.17647059, 0.2       , ..., 0.16862745,\n",
              "         0.17647059, 0.23529412],\n",
              "        [0.17254902, 0.17647059, 0.2       , ..., 0.16470588,\n",
              "         0.17647059, 0.21176471],\n",
              "        ...,\n",
              "        [0.16078431, 0.22745098, 0.29803922, ..., 0.30196078,\n",
              "         0.29019608, 0.29019608],\n",
              "        [0.21568627, 0.24313725, 0.35294118, ..., 0.2627451 ,\n",
              "         0.24705882, 0.22745098],\n",
              "        [0.30980392, 0.25882353, 0.36078431, ..., 0.25490196,\n",
              "         0.23137255, 0.19215686]],\n",
              "\n",
              "       [[0.96862745, 0.96862745, 0.96078431, ..., 0.98039216,\n",
              "         0.95294118, 0.94509804],\n",
              "        [0.96470588, 0.96470588, 0.96078431, ..., 0.96470588,\n",
              "         0.95686275, 0.94901961],\n",
              "        [0.95686275, 0.95686275, 0.95686275, ..., 0.94117647,\n",
              "         0.96078431, 0.94901961],\n",
              "        ...,\n",
              "        [0.94117647, 0.95294118, 0.96078431, ..., 0.95294118,\n",
              "         0.95294118, 0.95686275],\n",
              "        [0.96078431, 0.95686275, 0.95686275, ..., 0.95294118,\n",
              "         0.95294118, 0.95686275],\n",
              "        [0.97254902, 0.96078431, 0.95294118, ..., 0.95294118,\n",
              "         0.95294118, 0.95686275]],\n",
              "\n",
              "       ...,\n",
              "\n",
              "       [[0.54509804, 0.56470588, 0.58431373, ..., 0.98039216,\n",
              "         0.88627451, 0.97647059],\n",
              "        [0.57254902, 0.58823529, 0.60392157, ..., 0.94509804,\n",
              "         0.9254902 , 0.95686275],\n",
              "        [0.58431373, 0.59607843, 0.60784314, ..., 0.91764706,\n",
              "         0.97254902, 0.95294118],\n",
              "        ...,\n",
              "        [0.53333333, 0.52941176, 0.50196078, ..., 0.34901961,\n",
              "         0.35294118, 0.35686275],\n",
              "        [0.41176471, 0.45098039, 0.4627451 , ..., 0.39607843,\n",
              "         0.40784314, 0.42352941],\n",
              "        [0.38039216, 0.42352941, 0.44705882, ..., 0.43921569,\n",
              "         0.4627451 , 0.48235294]],\n",
              "\n",
              "       [[0.2745098 , 0.25490196, 0.28235294, ..., 0.64313725,\n",
              "         0.70588235, 0.76078431],\n",
              "        [0.2627451 , 0.26666667, 0.29803922, ..., 0.60784314,\n",
              "         0.64705882, 0.68235294],\n",
              "        [0.27058824, 0.28627451, 0.32941176, ..., 0.58823529,\n",
              "         0.61176471, 0.62745098],\n",
              "        ...,\n",
              "        [0.59607843, 0.58039216, 0.55686275, ..., 0.92941176,\n",
              "         0.8745098 , 0.84313725],\n",
              "        [0.64313725, 0.57647059, 0.4745098 , ..., 0.9372549 ,\n",
              "         0.89019608, 0.84705882],\n",
              "        [0.66666667, 0.55294118, 0.4       , ..., 0.94901961,\n",
              "         0.90980392, 0.8745098 ]],\n",
              "\n",
              "       [[0.94901961, 0.94901961, 0.94901961, ..., 0.96078431,\n",
              "         0.96470588, 0.96862745],\n",
              "        [0.94509804, 0.94509804, 0.94509804, ..., 0.95686275,\n",
              "         0.96078431, 0.96470588],\n",
              "        [0.94117647, 0.94117647, 0.94117647, ..., 0.95294118,\n",
              "         0.95294118, 0.95686275],\n",
              "        ...,\n",
              "        [0.95294118, 0.95294118, 0.95294118, ..., 0.94509804,\n",
              "         0.94509804, 0.94509804],\n",
              "        [0.95294118, 0.95294118, 0.95294118, ..., 0.94509804,\n",
              "         0.94509804, 0.94509804],\n",
              "        [0.95294118, 0.95294118, 0.95294118, ..., 0.94509804,\n",
              "         0.94509804, 0.94509804]]])"
            ]
          },
          "metadata": {
            "tags": []
          },
          "execution_count": 8
        }
      ]
    },
    {
      "metadata": {
        "id": "QAgbBOzBMfZI",
        "colab_type": "text"
      },
      "cell_type": "markdown",
      "source": [
        "## Step 2\n",
        "At this point, the data has been split into training and testing sets and normalized. We will now design a fully connected neural network for texture classification. \n",
        "\n",
        "\n",
        "![alt text](http://adventuresinmachinelearning.com/wp-content/uploads/2017/04/CNN-example-block-diagram.jpg)\n",
        "\n",
        "\n",
        "( Image from http://adventuresinmachinelearning.com/keras-tutorial-cnn-11-lines/ )\n",
        "\n",
        "When designing a fully connected network for classification, we have several decisions to make.\n",
        "\n",
        "**Network Architecuture**\n",
        "* How many layers will our network have ?\n",
        "* How many convolutional filters per layer ?\n",
        "    * What is an appropriate filter size ? \n",
        "* What is an appropriate batch size, learning rate and number of training epochs ?\n",
        "\n",
        "**Data input**\n",
        "* Do we use the raw data ?\n",
        "    * RGB or just gray channel ?\n",
        "* Does the use of different colorspaces lead to better results for a given network architecture ?\n",
        "* Can we use any of the texture features from the previous lab as inputs to this model ?\n",
        "* How does data augmentation affect the results ? \n",
        "\n",
        "Other considerations, we will not be exploring :\n",
        "* What is the trade-off between input data sizes and batch size ?\n",
        "* Is the GPU always the appropriate platform for training ?\n",
        "* How does hardware influence inputs and batch sizes for a given desired accuracy ?"
      ]
    },
    {
      "metadata": {
        "id": "82ImTGQ_MfZJ",
        "colab_type": "code",
        "colab": {}
      },
      "cell_type": "code",
      "source": [
        "# Define the data shapes based on your decision to use rgb or grayscale or other colorpsaces or texture features or \n",
        "# some combination of these inputs\n",
        "num_classes = 8 \n",
        "input_shape = (nrows, ncols,1)\n",
        "train_data = train_data.reshape(train_data.shape[0], nrows, ncols, 1)\n",
        "test_data = test_data.reshape(test_data.shape[0], nrows, ncols, 1)"
      ],
      "execution_count": 0,
      "outputs": []
    },
    {
      "metadata": {
        "id": "J-t3iRvLw7vy",
        "colab_type": "code",
        "colab": {
          "base_uri": "https://localhost:8080/",
          "height": 34
        },
        "outputId": "7aab7dca-6e01-4f97-baa4-fd5171c710f0"
      },
      "cell_type": "code",
      "source": [
        "train_data.shape"
      ],
      "execution_count": 12,
      "outputs": [
        {
          "output_type": "execute_result",
          "data": {
            "text/plain": [
              "(4000, 150, 150, 1)"
            ]
          },
          "metadata": {
            "tags": []
          },
          "execution_count": 12
        }
      ]
    },
    {
      "metadata": {
        "id": "aR_oD1KYe5nY",
        "colab_type": "code",
        "colab": {
          "base_uri": "https://localhost:8080/",
          "height": 367
        },
        "outputId": "abb61fab-cd85-43c9-fa33-faf3b438741f"
      },
      "cell_type": "code",
      "source": [
        "plt.imshow(train_data[0][:,:,0])"
      ],
      "execution_count": 13,
      "outputs": [
        {
          "output_type": "execute_result",
          "data": {
            "text/plain": [
              "<matplotlib.image.AxesImage at 0x7f59ae00f7d0>"
            ]
          },
          "metadata": {
            "tags": []
          },
          "execution_count": 13
        },
        {
          "output_type": "display_data",
          "data": {
            "image/png": "[encoded data removed]",
            "text/plain": [
              "<matplotlib.figure.Figure at 0x7f59b02f21d0>"
            ]
          },
          "metadata": {
            "tags": []
          }
        }
      ]
    },
    {
      "metadata": {
        "id": "Q2iSGtOuMfZP",
        "colab_type": "text"
      },
      "cell_type": "markdown",
      "source": [
        "## Step 3\n",
        "Design your network here using Keras"
      ]
    },
    {
      "metadata": {
        "id": "OsffMC7mMfZQ",
        "colab_type": "code",
        "colab": {
          "base_uri": "https://localhost:8080/",
          "height": 340
        },
        "outputId": "19663a5e-f532-4136-8b28-2657e55206d8"
      },
      "cell_type": "code",
      "source": [
        "# Create your network\n",
        "model = []\n",
        "model = Sequential()\n",
        "\n",
        "# Add input layer\n",
        "#model.add(tf.keras.layers.InputLayer(train_data[0].shape))\n",
        "# Add fully connected layers \n",
        "\n",
        "# See keras.io for Conv2D, MaxPool2D, Dropout documentation\n",
        "#model.add(Conv2D(32, kernel_size=(3,3), input_shape=input_shape, activation='relu'))\n",
        "#model.add(MaxPool2D(pool_size = (3,3)))\n",
        "#model.add(Flatten())\n",
        "#model.add(Dropout(.2))\n",
        "#model.add(Dense(64, activation=tf.nn.relu))\n",
        "\n",
        "# Add final output layer - This should have as many neurons as the number\n",
        "# of classes we are trying to identify\n",
        "#model.add( )\n",
        "#model.add(Flatten())\n",
        "#model.add(Dense(8, activation=tf.nn.softmax))\n",
        "\n",
        "model.add(Conv2D(32,(5,5), input_shape=train_data[0].shape))\n",
        "model.add(tf.keras.layers.MaxPooling2D(pool_size=(2,2), strides=(2,2)))\n",
        "model.add(tf.keras.layers.Conv2D(64,(5,5), activation='relu'))\n",
        "model.add(tf.keras.layers.MaxPooling2D(pool_size=(3,3)))\n",
        "model.add(tf.keras.layers.Flatten())\n",
        "model.add(Dense(num_classes, activation='softmax'))\n",
        "model.summary()\n"
      ],
      "execution_count": 30,
      "outputs": [
        {
          "output_type": "stream",
          "text": [
            "_________________________________________________________________\n",
            "Layer (type)                 Output Shape              Param #   \n",
            "=================================================================\n",
            "conv2d_8 (Conv2D)            (None, 146, 146, 32)      832       \n",
            "_________________________________________________________________\n",
            "max_pooling2d_4 (MaxPooling2 (None, 73, 73, 32)        0         \n",
            "_________________________________________________________________\n",
            "conv2d_9 (Conv2D)            (None, 69, 69, 64)        51264     \n",
            "_________________________________________________________________\n",
            "max_pooling2d_5 (MaxPooling2 (None, 23, 23, 64)        0         \n",
            "_________________________________________________________________\n",
            "flatten_2 (Flatten)          (None, 33856)             0         \n",
            "_________________________________________________________________\n",
            "dense_3 (Dense)              (None, 8)                 270856    \n",
            "=================================================================\n",
            "Total params: 322,952\n",
            "Trainable params: 322,952\n",
            "Non-trainable params: 0\n",
            "_________________________________________________________________\n"
          ],
          "name": "stdout"
        }
      ]
    },
    {
      "metadata": {
        "id": "3DwOWHAVMfZU",
        "colab_type": "text"
      },
      "cell_type": "markdown",
      "source": [
        "## Step 4\n",
        "Compile the model you designed. Compiltation of the Keras model results in the initialization of model weights and sets other model properties."
      ]
    },
    {
      "metadata": {
        "id": "azIn2h-PMfZV",
        "colab_type": "code",
        "colab": {}
      },
      "cell_type": "code",
      "source": [
        "model.compile(loss='categorical_crossentropy', optimizer='sgd', metrics=['accuracy'])"
      ],
      "execution_count": 0,
      "outputs": []
    },
    {
      "metadata": {
        "id": "9afYIYb6MfZZ",
        "colab_type": "text"
      },
      "cell_type": "markdown",
      "source": [
        "## Step 5\n",
        "Train model"
      ]
    },
    {
      "metadata": {
        "id": "_ngFO-dYMfZa",
        "colab_type": "code",
        "colab": {
          "base_uri": "https://localhost:8080/",
          "height": 2145
        },
        "outputId": "8e5acbbc-d5e2-4195-f3c1-8d7763835fe9"
      },
      "cell_type": "code",
      "source": [
        "\n",
        "y = model.fit(train_data, train_labels, epochs=62, batch_size=100, verbose=True)"
      ],
      "execution_count": 33,
      "outputs": [
        {
          "output_type": "stream",
          "text": [
            "Epoch 1/62\n",
            "4000/4000 [==============================] - 5s 1ms/step - loss: 0.9551 - acc: 0.6080\n",
            "Epoch 2/62\n",
            "4000/4000 [==============================] - 5s 1ms/step - loss: 0.9312 - acc: 0.6288\n",
            "Epoch 3/62\n",
            "4000/4000 [==============================] - 5s 1ms/step - loss: 0.8486 - acc: 0.6623\n",
            "Epoch 4/62\n",
            "4000/4000 [==============================] - 5s 1ms/step - loss: 0.8817 - acc: 0.6515\n",
            "Epoch 5/62\n",
            "4000/4000 [==============================] - 5s 1ms/step - loss: 0.8160 - acc: 0.6680\n",
            "Epoch 6/62\n",
            "4000/4000 [==============================] - 5s 1ms/step - loss: 0.7881 - acc: 0.6915\n",
            "Epoch 7/62\n",
            "2600/4000 [==================>...........] - ETA: 1s - loss: 0.8451 - acc: 0.6596"
          ],
          "name": "stdout"
        },
        {
          "output_type": "stream",
          "text": [
            "4000/4000 [==============================] - 5s 1ms/step - loss: 0.8377 - acc: 0.6665\n",
            "Epoch 8/62\n",
            "4000/4000 [==============================] - 5s 1ms/step - loss: 0.7519 - acc: 0.7082\n",
            "Epoch 9/62\n",
            "4000/4000 [==============================] - 5s 1ms/step - loss: 0.7587 - acc: 0.7043\n",
            "Epoch 10/62\n",
            "4000/4000 [==============================] - 5s 1ms/step - loss: 0.7337 - acc: 0.7180\n",
            "Epoch 11/62\n",
            "4000/4000 [==============================] - 5s 1ms/step - loss: 0.7432 - acc: 0.7192\n",
            "Epoch 12/62\n",
            "4000/4000 [==============================] - 5s 1ms/step - loss: 0.7142 - acc: 0.7123\n",
            "Epoch 13/62\n",
            "3300/4000 [=======================>......] - ETA: 0s - loss: 0.7133 - acc: 0.7433"
          ],
          "name": "stdout"
        },
        {
          "output_type": "stream",
          "text": [
            "4000/4000 [==============================] - 5s 1ms/step - loss: 0.7056 - acc: 0.7502\n",
            "Epoch 14/62\n",
            "4000/4000 [==============================] - 5s 1ms/step - loss: 0.6638 - acc: 0.7515\n",
            "Epoch 15/62\n",
            "4000/4000 [==============================] - 5s 1ms/step - loss: 0.6624 - acc: 0.7548\n",
            "Epoch 16/62\n",
            "4000/4000 [==============================] - 5s 1ms/step - loss: 0.6304 - acc: 0.7865\n",
            "Epoch 17/62\n",
            "4000/4000 [==============================] - 5s 1ms/step - loss: 0.6434 - acc: 0.7637\n",
            "Epoch 18/62\n",
            "4000/4000 [==============================] - 5s 1ms/step - loss: 0.5595 - acc: 0.8062\n",
            "Epoch 19/62\n",
            "3300/4000 [=======================>......] - ETA: 0s - loss: 0.5506 - acc: 0.8082"
          ],
          "name": "stdout"
        },
        {
          "output_type": "stream",
          "text": [
            "4000/4000 [==============================] - 5s 1ms/step - loss: 0.5529 - acc: 0.8062\n",
            "Epoch 20/62\n",
            "4000/4000 [==============================] - 5s 1ms/step - loss: 0.5638 - acc: 0.8127\n",
            "Epoch 21/62\n",
            "4000/4000 [==============================] - 5s 1ms/step - loss: 0.6089 - acc: 0.7750\n",
            "Epoch 22/62\n",
            "4000/4000 [==============================] - 5s 1ms/step - loss: 0.5024 - acc: 0.8242\n",
            "Epoch 23/62\n",
            "4000/4000 [==============================] - 5s 1ms/step - loss: 0.5524 - acc: 0.8108\n",
            "Epoch 24/62\n",
            "4000/4000 [==============================] - 5s 1ms/step - loss: 0.4962 - acc: 0.8257\n",
            "Epoch 25/62\n",
            "3300/4000 [=======================>......] - ETA: 0s - loss: 0.4742 - acc: 0.8306"
          ],
          "name": "stdout"
        },
        {
          "output_type": "stream",
          "text": [
            "4000/4000 [==============================] - 5s 1ms/step - loss: 0.4878 - acc: 0.8267\n",
            "Epoch 26/62\n",
            "4000/4000 [==============================] - 5s 1ms/step - loss: 0.4820 - acc: 0.8300\n",
            "Epoch 27/62\n",
            "4000/4000 [==============================] - 5s 1ms/step - loss: 0.4499 - acc: 0.8550\n",
            "Epoch 28/62\n",
            "4000/4000 [==============================] - 5s 1ms/step - loss: 0.5114 - acc: 0.8237\n",
            "Epoch 29/62\n",
            "4000/4000 [==============================] - 5s 1ms/step - loss: 0.4115 - acc: 0.8680\n",
            "Epoch 30/62\n",
            "4000/4000 [==============================] - 5s 1ms/step - loss: 0.5624 - acc: 0.8275\n",
            "Epoch 31/62\n",
            "3300/4000 [=======================>......] - ETA: 0s - loss: 0.4220 - acc: 0.8776"
          ],
          "name": "stdout"
        },
        {
          "output_type": "stream",
          "text": [
            "4000/4000 [==============================] - 5s 1ms/step - loss: 0.4200 - acc: 0.8750\n",
            "Epoch 32/62\n",
            "4000/4000 [==============================] - 5s 1ms/step - loss: 0.3809 - acc: 0.8802\n",
            "Epoch 33/62\n",
            "4000/4000 [==============================] - 5s 1ms/step - loss: 0.3937 - acc: 0.8720\n",
            "Epoch 34/62\n",
            "4000/4000 [==============================] - 5s 1ms/step - loss: 0.3876 - acc: 0.8725\n",
            "Epoch 35/62\n",
            "4000/4000 [==============================] - 5s 1ms/step - loss: 0.3735 - acc: 0.8773\n",
            "Epoch 36/62\n",
            "4000/4000 [==============================] - 5s 1ms/step - loss: 0.3233 - acc: 0.9085\n",
            "Epoch 37/62\n",
            "3300/4000 [=======================>......] - ETA: 0s - loss: 0.3397 - acc: 0.8973"
          ],
          "name": "stdout"
        },
        {
          "output_type": "stream",
          "text": [
            "4000/4000 [==============================] - 5s 1ms/step - loss: 0.3414 - acc: 0.8932\n",
            "Epoch 38/62\n",
            "4000/4000 [==============================] - 5s 1ms/step - loss: 0.3770 - acc: 0.8778\n",
            "Epoch 39/62\n",
            "4000/4000 [==============================] - 5s 1ms/step - loss: 0.3214 - acc: 0.9055\n",
            "Epoch 40/62\n",
            "4000/4000 [==============================] - 5s 1ms/step - loss: 0.3160 - acc: 0.9090\n",
            "Epoch 41/62\n",
            "4000/4000 [==============================] - 5s 1ms/step - loss: 0.2897 - acc: 0.9158\n",
            "Epoch 42/62\n",
            "4000/4000 [==============================] - 5s 1ms/step - loss: 0.2542 - acc: 0.9363\n",
            "Epoch 43/62\n",
            "3300/4000 [=======================>......] - ETA: 0s - loss: 0.2536 - acc: 0.9336"
          ],
          "name": "stdout"
        },
        {
          "output_type": "stream",
          "text": [
            "4000/4000 [==============================] - 5s 1ms/step - loss: 0.2588 - acc: 0.9315\n",
            "Epoch 44/62\n",
            "4000/4000 [==============================] - 5s 1ms/step - loss: 0.4034 - acc: 0.8785\n",
            "Epoch 45/62\n",
            "4000/4000 [==============================] - 5s 1ms/step - loss: 0.2453 - acc: 0.9430\n",
            "Epoch 46/62\n",
            "4000/4000 [==============================] - 5s 1ms/step - loss: 0.2493 - acc: 0.9327\n",
            "Epoch 47/62\n",
            "4000/4000 [==============================] - 5s 1ms/step - loss: 0.2285 - acc: 0.9415\n",
            "Epoch 48/62\n",
            "4000/4000 [==============================] - 5s 1ms/step - loss: 0.2153 - acc: 0.9460\n",
            "Epoch 49/62\n",
            "3300/4000 [=======================>......] - ETA: 0s - loss: 0.1933 - acc: 0.9582"
          ],
          "name": "stdout"
        },
        {
          "output_type": "stream",
          "text": [
            "4000/4000 [==============================] - 5s 1ms/step - loss: 0.1962 - acc: 0.9583\n",
            "Epoch 50/62\n",
            "4000/4000 [==============================] - 5s 1ms/step - loss: 0.2149 - acc: 0.9415\n",
            "Epoch 51/62\n",
            "4000/4000 [==============================] - 5s 1ms/step - loss: 0.1757 - acc: 0.9645\n",
            "Epoch 52/62\n",
            "4000/4000 [==============================] - 5s 1ms/step - loss: 0.2510 - acc: 0.9305\n",
            "Epoch 53/62\n",
            "4000/4000 [==============================] - 5s 1ms/step - loss: 0.1796 - acc: 0.9585\n",
            "Epoch 54/62\n",
            "4000/4000 [==============================] - 5s 1ms/step - loss: 0.2129 - acc: 0.9468\n",
            "Epoch 55/62\n",
            "3300/4000 [=======================>......] - ETA: 0s - loss: 0.1709 - acc: 0.9645"
          ],
          "name": "stdout"
        },
        {
          "output_type": "stream",
          "text": [
            "4000/4000 [==============================] - 5s 1ms/step - loss: 0.1715 - acc: 0.9640\n",
            "Epoch 56/62\n",
            "4000/4000 [==============================] - 5s 1ms/step - loss: 0.5267 - acc: 0.8835\n",
            "Epoch 57/62\n",
            "4000/4000 [==============================] - 5s 1ms/step - loss: 0.1803 - acc: 0.9655\n",
            "Epoch 58/62\n",
            "4000/4000 [==============================] - 5s 1ms/step - loss: 0.1625 - acc: 0.9658\n",
            "Epoch 59/62\n",
            "4000/4000 [==============================] - 5s 1ms/step - loss: 0.1998 - acc: 0.9490\n",
            "Epoch 60/62\n",
            "4000/4000 [==============================] - 5s 1ms/step - loss: 0.2055 - acc: 0.9493\n",
            "Epoch 61/62\n",
            "3300/4000 [=======================>......] - ETA: 0s - loss: 0.1413 - acc: 0.9691"
          ],
          "name": "stdout"
        },
        {
          "output_type": "stream",
          "text": [
            "4000/4000 [==============================] - 5s 1ms/step - loss: 0.1406 - acc: 0.9703\n",
            "Epoch 62/62\n",
            "4000/4000 [==============================] - 5s 1ms/step - loss: 0.1411 - acc: 0.9723\n"
          ],
          "name": "stdout"
        }
      ]
    },
    {
      "metadata": {
        "id": "1-tsLy8oui3s",
        "colab_type": "code",
        "colab": {
          "base_uri": "https://localhost:8080/",
          "height": 364
        },
        "outputId": "30f857d3-b45b-4b01-e94c-cd23712d9ec0"
      },
      "cell_type": "code",
      "source": [
        "plt.plot(train_labels[8])"
      ],
      "execution_count": 53,
      "outputs": [
        {
          "output_type": "execute_result",
          "data": {
            "text/plain": [
              "[<matplotlib.lines.Line2D at 0x7f4f7f57f590>]"
            ]
          },
          "metadata": {
            "tags": []
          },
          "execution_count": 53
        },
        {
          "output_type": "display_data",
          "data": {
            "image/png": "[encoded data removed]",
            "text/plain": [
              "<matplotlib.figure.Figure at 0x7f4f7f64fd50>"
            ]
          },
          "metadata": {
            "tags": []
          }
        }
      ]
    },
    {
      "metadata": {
        "id": "qhrLVaghspVz",
        "colab_type": "code",
        "colab": {
          "base_uri": "https://localhost:8080/",
          "height": 34
        },
        "outputId": "b4f91e18-580d-4930-904e-ab7effc05a87"
      },
      "cell_type": "code",
      "source": [
        "train_data.shape"
      ],
      "execution_count": 20,
      "outputs": [
        {
          "output_type": "execute_result",
          "data": {
            "text/plain": [
              "(4000, 150, 150)"
            ]
          },
          "metadata": {
            "tags": []
          },
          "execution_count": 20
        }
      ]
    },
    {
      "metadata": {
        "id": "aHPr_H7FmzkQ",
        "colab_type": "code",
        "colab": {
          "base_uri": "https://localhost:8080/",
          "height": 367
        },
        "outputId": "c6e08ff7-8b2a-4a5f-c7f9-39132fa04982"
      },
      "cell_type": "code",
      "source": [
        "plt.imshow(train_data[0])"
      ],
      "execution_count": 21,
      "outputs": [
        {
          "output_type": "execute_result",
          "data": {
            "text/plain": [
              "<matplotlib.image.AxesImage at 0x7f4f855b0e10>"
            ]
          },
          "metadata": {
            "tags": []
          },
          "execution_count": 21
        },
        {
          "output_type": "display_data",
          "data": {
            "image/png": "[encoded data removed]",
            "text/plain": [
              "<matplotlib.figure.Figure at 0x7f4f857eeb50>"
            ]
          },
          "metadata": {
            "tags": []
          }
        }
      ]
    },
    {
      "metadata": {
        "id": "sjAqutu2MfZf",
        "colab_type": "text"
      },
      "cell_type": "markdown",
      "source": [
        "## Step 6\n",
        "See how your model performs by uisng it for inference.\n",
        "* What is the accuracy of classification ?\n",
        "* Change your model, re-compile and test. Can you improve the accuracy of the model ?\n"
      ]
    },
    {
      "metadata": {
        "id": "5M0N76AoMfZf",
        "colab_type": "code",
        "colab": {
          "base_uri": "https://localhost:8080/",
          "height": 238
        },
        "outputId": "2e7c4fef-836a-4b32-dd82-07e70a802a62"
      },
      "cell_type": "code",
      "source": [
        "# predict labels - use the test set for prediction\n",
        "pred_labels = model.predict(test_data)\n",
        "pred_labels"
      ],
      "execution_count": 34,
      "outputs": [
        {
          "output_type": "execute_result",
          "data": {
            "text/plain": [
              "array([[6.7636156e-01, 5.1082619e-02, 1.4085068e-02, ..., 0.0000000e+00,\n",
              "        1.5323222e-04, 6.5696291e-08],\n",
              "       [2.1285548e-24, 2.6302348e-05, 1.3742317e-29, ..., 0.0000000e+00,\n",
              "        9.9997365e-01, 7.5422271e-34],\n",
              "       [3.5748926e-05, 1.8856829e-06, 2.8626795e-04, ..., 1.2575549e-03,\n",
              "        4.1203347e-18, 9.9838054e-01],\n",
              "       ...,\n",
              "       [2.4036569e-07, 4.4038463e-01, 1.1213421e-08, ..., 0.0000000e+00,\n",
              "        5.3975689e-01, 9.0100724e-15],\n",
              "       [3.4892830e-01, 2.6354519e-01, 3.4657183e-01, ..., 1.3560699e-14,\n",
              "        1.4712794e-09, 2.2694590e-02],\n",
              "       [2.8747347e-06, 1.6481854e-07, 7.0730775e-06, ..., 9.3978667e-01,\n",
              "        3.1763031e-20, 6.0199849e-02]], dtype=float32)"
            ]
          },
          "metadata": {
            "tags": []
          },
          "execution_count": 34
        }
      ]
    },
    {
      "metadata": {
        "id": "Xnuyx0QFMfZk",
        "colab_type": "code",
        "colab": {
          "base_uri": "https://localhost:8080/",
          "height": 170
        },
        "outputId": "3c48445a-88be-4041-d245-3716002b10c2"
      },
      "cell_type": "code",
      "source": [
        "from sklearn.metrics import accuracy_score\n",
        "from sklearn.metrics import confusion_matrix\n",
        "\n",
        "# We need to convert the categorical array test_labels into a vector\n",
        "# in order to use it in the calculation of the confusion matrix\n",
        "\n",
        "mat = confusion_matrix(np.argmax(test_labels, axis=1), np.argmax(pred_labels,axis=1))\n",
        "acc = accuracy_score(np.argmax(test_labels, axis=1), np.argmax(pred_labels,axis=1))\n",
        "print(acc)\n",
        "print(mat)"
      ],
      "execution_count": 35,
      "outputs": [
        {
          "output_type": "stream",
          "text": [
            "0.677\n",
            "[[ 87   2  31   0  11   0   0   0]\n",
            " [ 11  58   2  16  26   0   6   0]\n",
            " [ 59   2  51   0   5   0   0   7]\n",
            " [  0  13   0  84   3   0   7   0]\n",
            " [ 34  20  15   4  59   0   5   0]\n",
            " [  0   0   0   0   0 123   0   2]\n",
            " [  1  15   0   3   6   0 108   0]\n",
            " [  0   0   4   0   0  13   0 107]]\n"
          ],
          "name": "stdout"
        }
      ]
    },
    {
      "metadata": {
        "id": "h7RYbDzyMfZm",
        "colab_type": "code",
        "colab": {
          "base_uri": "https://localhost:8080/",
          "height": 388
        },
        "outputId": "b4249ce8-7838-48ce-8349-e22268e2b7e3"
      },
      "cell_type": "code",
      "source": [
        "plt.figure(figsize=(8,6))\n",
        "plt.imshow(mat, cmap='hot', interpolation='nearest')\n",
        "plt.grid(False)\n",
        "plt.colorbar()\n",
        "plt.xlabel('true label')\n",
        "plt.ylabel('predicted label')\n",
        "plt.show()"
      ],
      "execution_count": 36,
      "outputs": [
        {
          "output_type": "display_data",
          "data": {
            "image/png": "[encoded data removed]",
            "text/plain": [
              "<matplotlib.figure.Figure at 0x7f59a7b6e4d0>"
            ]
          },
          "metadata": {
            "tags": []
          }
        }
      ]
    },
    {
      "metadata": {
        "id": "p6atMD6vMfZs",
        "colab_type": "text"
      },
      "cell_type": "markdown",
      "source": [
        "## Assignment\n",
        "* In Step 3 design your own network\n",
        "* Does the model perform better if you use all three RGB channels ?\n",
        "* How does the performance change when using the La*b colorspace ?\n"
      ]
    },
    {
      "metadata": {
        "id": "HQ6qvyk4qntM",
        "colab_type": "code",
        "colab": {}
      },
      "cell_type": "code",
      "source": [
        "\n",
        "# Load data as RGB\n",
        "y = np.load(os.path.join(data_dir, 'rgb01.npz'))\n",
        "labels = y['labels']\n",
        "data_rgb = y['rgb_data']\n",
        "label_str = y['label_str']\n",
        "label_str = label_str.tolist() # this is to convert label_str back to a dictionary\n",
        "y = []\n",
        "\n",
        "print(data_rgb.shape)\n",
        "for ii in range(2,6):\n",
        "    filename = os.path.join(data_dir, 'rgb0' + str(ii) + '.npz')\n",
        "    print('loading ', filename)\n",
        "    y = np.load(filename)\n",
        "    labels = np.append(labels, y['labels'], axis=0)\n",
        "    data_rgb = np.append(data_rgb, y['rgb_data'])\n",
        "    print(data_rgb.shape)\n",
        "    y = []\n",
        "\n",
        "data_rgb = data_rgb.astype('float')\n",
        "data_rgb = data_rgb.reshape(5000, 150, 150, 3)\n",
        "\n",
        "print( data_rgb.shape )\n",
        "print( labels.shape )\n",
        "\n",
        "num_images, nrows, ncols, dims = data_rgb.shape"
      ],
      "execution_count": 0,
      "outputs": []
    }
  ]
}